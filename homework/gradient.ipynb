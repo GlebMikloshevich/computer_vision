{
 "cells": [
  {
   "cell_type": "code",
   "execution_count": 1,
   "id": "6e4c618e",
   "metadata": {},
   "outputs": [],
   "source": [
    "import numpy as np\n",
    "import matplotlib.pyplot as plt"
   ]
  },
  {
   "cell_type": "markdown",
   "id": "d75559b7",
   "metadata": {},
   "source": [
    "## Linear vertical gradient"
   ]
  },
  {
   "cell_type": "code",
   "execution_count": 2,
   "id": "82118bf0",
   "metadata": {},
   "outputs": [
    {
     "data": {
      "image/png": "[encoded data removed]",
      "text/plain": [
       "<Figure size 432x288 with 1 Axes>"
      ]
     },
     "metadata": {
      "needs_background": "light"
     },
     "output_type": "display_data"
    }
   ],
   "source": [
    "size = 100\n",
    "image = np.zeros((size, size, 3), dtype=\"uint8\")\n",
    "assert image.shape[0] == image.shape[1]\n",
    "\n",
    "color1 = [255, 128, 0]\n",
    "color2 = [0, 128, 255]\n",
    "\n",
    "for i, v in enumerate(np.linspace(0, 1, image.shape[0])):\n",
    "    r = lerp(color1[0], color2[0], v)\n",
    "    g = lerp(color1[1], color2[1], v)\n",
    "    b = lerp(color1[2], color2[2], v)\n",
    "    image[i, :, :] = [r, g, b]\n",
    "\n",
    "    \n",
    "plt.figure(1)\n",
    "plt.imshow(image)\n",
    "plt.show()"
   ]
  },
  {
   "cell_type": "markdown",
   "id": "e6fb7314",
   "metadata": {},
   "source": [
    "## Linear diagonal gradient"
   ]
  },
  {
   "cell_type": "code",
   "execution_count": 12,
   "id": "8a49f12f",
   "metadata": {},
   "outputs": [
    {
     "data": {
      "image/png": "[encoded data removed]",
      "text/plain": [
       "<Figure size 432x288 with 1 Axes>"
      ]
     },
     "metadata": {
      "needs_background": "light"
     },
     "output_type": "display_data"
    }
   ],
   "source": [
    "def generate_diag_gradient(color1, color2, size):\n",
    "    image = np.zeros((size, size, 3), dtype=\"uint8\")\n",
    "    a = np.linspace(0, 1, image.shape[0]*2-1, endpoint=True)\n",
    "    for i in range(int(size)):\n",
    "        for j in range(int(size)):\n",
    "            t = a[i+j]\n",
    "            r = lerp(color1[0], color2[0], t)\n",
    "            g = lerp(color1[1], color2[1], t)\n",
    "            b = lerp(color1[2], color2[2], t)\n",
    "            image[i, j, :] = [r, g, b]\n",
    "    \n",
    "    return image\n",
    "\n",
    "\n",
    "color1 = [255, 128, 0]\n",
    "color2 = [0, 128, 255]\n",
    "size = 10\n",
    "\n",
    "grad_image = generate_diag_gradient(color1, color2, size)\n",
    "plt.figure(1)\n",
    "plt.imshow(grad_image)\n",
    "plt.show()"
   ]
  }
 ],
 "metadata": {
  "kernelspec": {
   "display_name": "Python 3",
   "language": "python",
   "name": "python3"
  },
  "language_info": {
   "codemirror_mode": {
    "name": "ipython",
    "version": 3
   },
   "file_extension": ".py",
   "mimetype": "text/x-python",
   "name": "python",
   "nbconvert_exporter": "python",
   "pygments_lexer": "ipython3",
   "version": "3.8.5"
  }
 },
 "nbformat": 4,
 "nbformat_minor": 5
}
