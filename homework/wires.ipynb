{
 "cells": [
  {
   "cell_type": "code",
   "execution_count": 60,
   "id": "3d0c1efe",
   "metadata": {},
   "outputs": [],
   "source": [
    "import numpy as np\n",
    "import matplotlib.pyplot as plt\n",
    "import scipy.ndimage.morphology as sdm"
   ]
  },
  {
   "cell_type": "code",
   "execution_count": 61,
   "id": "225effa3",
   "metadata": {},
   "outputs": [],
   "source": [
    "def check(image, y, x):\n",
    "    if not 0 <= x < image.shape[1]:\n",
    "        return False\n",
    "    if not 0 <= y < image.shape[0]:\n",
    "        return False\n",
    "    if image[y,x] !=0:\n",
    "        return True\n",
    "    return False\n",
    "\n",
    "def neighbours2(image,y,x):\n",
    "    left = y, x-1\n",
    "    top = y-1,x\n",
    "\n",
    "    if not check(image, *left):\n",
    "        left = None\n",
    "    if not check(image, *top):\n",
    "        top = None\n",
    "\n",
    "    return left,top\n",
    "\n",
    "def find(label,linked):\n",
    "    j = int(label)\n",
    "    while linked[j] != 0:\n",
    "        j = linked[j]\n",
    "    return j\n",
    "\n",
    "def union(label1,label2,linked):\n",
    "    j = find(label1,linked)\n",
    "    k = find(label2,linked)\n",
    "    if j != k:\n",
    "        linked[k] = j\n",
    "    \n",
    "\n",
    "\n",
    "def two_pass_labeling(b_image):\n",
    "    labeled = np.zeros_like(b_image)\n",
    "    label = 1\n",
    "    linked = np.zeros(len(b_image)+1000, dtype='uint')\n",
    "\n",
    "    for y in range(b_image.shape[0]):\n",
    "        for x in range(b_image.shape[1]):\n",
    "            if b_image[y,x] != 0:\n",
    "                ns = neighbours2(b_image,y,x)\n",
    "                if ns[0] is None and ns[1] is None:\n",
    "                    m = label\n",
    "                    label += 1\n",
    "                else:\n",
    "                    lbs = [labeled[i] for i in ns if i is not None]\n",
    "                    m = min(lbs)\n",
    "                labeled[y,x] = m\n",
    "\n",
    "                for n in ns:\n",
    "                    if n is not None:\n",
    "                        lb = labeled[n]\n",
    "                        if lb != m:\n",
    "                            union(m, lb, linked)\n",
    "\n",
    "\n",
    "    labs = []\n",
    "    \n",
    "    for y in range(b_image.shape[0]):\n",
    "        for x in range(b_image.shape[1]):\n",
    "            if b_image[y,x] != 0:\n",
    "                new_label = find(labeled[y,x],linked)\n",
    "                \n",
    "                if new_label != labeled[y,x]:\n",
    "                    labeled[y,x] = new_label                    \n",
    "                if new_label not in labs:\n",
    "                    labs.append(new_label)\n",
    "                if labeled[y,x] in labs:\n",
    "                    labeled[y,x] = labs.index(new_label) + 1\n",
    "\n",
    "    return labeled\n"
   ]
  },
  {
   "cell_type": "code",
   "execution_count": 62,
   "id": "6edefc8e",
   "metadata": {},
   "outputs": [],
   "source": [
    "path = '../data/wires/'"
   ]
  },
  {
   "cell_type": "code",
   "execution_count": 63,
   "id": "291df4ae",
   "metadata": {},
   "outputs": [],
   "source": [
    "wire1 = np.load(path + 'wires1.npy').astype('uint')\n",
    "wire2 = np.load(path + 'wires2.npy').astype('uint')\n",
    "wire3 = np.load(path + 'wires3.npy').astype('uint')\n",
    "wire4 = np.load(path + 'wires4.npy').astype('uint')\n",
    "wire5 = np.load(path + 'wires5.npy').astype('uint')\n",
    "wire6 = np.load(path + 'wires6.npy').astype('uint')"
   ]
  },
  {
   "cell_type": "code",
   "execution_count": 64,
   "id": "9c6c973b",
   "metadata": {},
   "outputs": [],
   "source": [
    "kernel = np.array([[0, 1, 0],\n",
    "                   [0, 1, 0], \n",
    "                   [0, 1, 0]])"
   ]
  },
  {
   "cell_type": "code",
   "execution_count": 72,
   "id": "4c237b13",
   "metadata": {},
   "outputs": [
    {
     "data": {
      "image/png": "[encoded data removed]",
      "text/plain": [
       "<Figure size 432x288 with 1 Axes>"
      ]
     },
     "metadata": {
      "needs_background": "light"
     },
     "output_type": "display_data"
    }
   ],
   "source": [
    "wire = wire4.copy()\n",
    "\n",
    "marked_wire = two_pass_labeling(wire)\n",
    "plt.imshow(marked_wire)\n",
    "wires = marked_wire.max()\n",
    "\n",
    "wires_arr = np.array([np.zeros_like(marked_wire) for i in range(wires)])\n",
    "\n",
    "for i in range(wires):\n",
    "    pos = np.where(marked_wire == i+1)\n",
    "    wires_arr[i][pos] = 1\n",
    "\n"
   ]
  },
  {
   "cell_type": "code",
   "execution_count": 73,
   "id": "a6c3b6b1",
   "metadata": {},
   "outputs": [
    {
     "data": {
      "text/plain": [
       "<matplotlib.image.AxesImage at 0x7fe84a1251c0>"
      ]
     },
     "execution_count": 73,
     "metadata": {},
     "output_type": "execute_result"
    },
    {
     "data": {
      "image/png": "[encoded data removed]",
      "text/plain": [
       "<Figure size 432x288 with 1 Axes>"
      ]
     },
     "metadata": {
      "needs_background": "light"
     },
     "output_type": "display_data"
    }
   ],
   "source": [
    "plt.imshow(wires_arr[0])"
   ]
  },
  {
   "cell_type": "code",
   "execution_count": 75,
   "id": "9c9fc54c",
   "metadata": {},
   "outputs": [
    {
     "name": "stdout",
     "output_type": "stream",
     "text": [
      "wire 0 has 2 splits\n",
      "wire 1 has 0 splits\n"
     ]
    }
   ],
   "source": [
    "for i in range(wires):\n",
    "    splited_wire = sdm.binary_opening(wires_arr[i], kernel).astype('uint')\n",
    "    splited_wire = two_pass_labeling(splited_wire)\n",
    "#     print(splited_wire)\n",
    "    cur_wires = splited_wire.max()\n",
    "    if cur_wires == 0:\n",
    "        print(f'wire {i} no wires, in fact')\n",
    "    else:\n",
    "        print(f'wire {i} has {int(cur_wires - 1)} splits')"
   ]
  }
 ],
 "metadata": {
  "kernelspec": {
   "display_name": "Python 3",
   "language": "python",
   "name": "python3"
  },
  "language_info": {
   "codemirror_mode": {
    "name": "ipython",
    "version": 3
   },
   "file_extension": ".py",
   "mimetype": "text/x-python",
   "name": "python",
   "nbconvert_exporter": "python",
   "pygments_lexer": "ipython3",
   "version": "3.8.10"
  }
 },
 "nbformat": 4,
 "nbformat_minor": 5
}
